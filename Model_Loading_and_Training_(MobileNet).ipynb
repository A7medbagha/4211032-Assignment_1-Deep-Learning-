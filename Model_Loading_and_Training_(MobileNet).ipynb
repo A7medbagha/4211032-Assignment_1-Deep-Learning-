{
 "cells": [
  {
   "cell_type": "markdown",
   "id": "e583e7f0",
   "metadata": {},
   "source": [
    "## Name: Ahmed Mohamed Fekry Bagha\n",
    "## ID: 4211032\n",
    "## Group: (A)\n",
    "## Section: (B1)"
   ]
  },
  {
   "cell_type": "code",
   "execution_count": 1,
   "id": "21a99f74",
   "metadata": {},
   "outputs": [],
   "source": [
    "import tensorflow as tf\n",
    "from tensorflow.keras import layers, models, optimizers\n",
    "from tensorflow.keras.applications import MobileNet\n",
    "from tensorflow.keras.callbacks import EarlyStopping, ModelCheckpoint"
   ]
  },
  {
   "cell_type": "markdown",
   "id": "0917b6b4",
   "metadata": {},
   "source": [
    "### Device configuration"
   ]
  },
  {
   "cell_type": "code",
   "execution_count": 2,
   "id": "866b3deb",
   "metadata": {},
   "outputs": [
    {
     "name": "stdout",
     "output_type": "stream",
     "text": [
      "No GPU found, using CPU.\n"
     ]
    }
   ],
   "source": [
    "gpus = tf.config.list_physical_devices('GPU')\n",
    "if gpus:\n",
    "    try:\n",
    "        tf.config.experimental.set_memory_growth(gpus[0], True)\n",
    "        print(\"GPU configured\")\n",
    "    except Exception as e:\n",
    "        print(\"GPU configuration error:\", e)\n",
    "else:\n",
    "    print(\"No GPU found, using CPU.\")"
   ]
  },
  {
   "cell_type": "markdown",
   "id": "e58d9435",
   "metadata": {},
   "source": [
    "### Constants"
   ]
  },
  {
   "cell_type": "code",
   "execution_count": 3,
   "id": "c394e612",
   "metadata": {},
   "outputs": [],
   "source": [
    "IMG_SIZE = 224       \n",
    "BATCH_SIZE = 32\n",
    "NUM_CLASSES = 10\n",
    "EPOCHS = 5  "
   ]
  },
  {
   "cell_type": "markdown",
   "id": "4bdd8ca5",
   "metadata": {},
   "source": [
    "### Load CIFAR-10 data and use training"
   ]
  },
  {
   "cell_type": "code",
   "execution_count": 4,
   "id": "6122e417",
   "metadata": {},
   "outputs": [],
   "source": [
    "(x_train, y_train), (x_test, y_test) = tf.keras.datasets.cifar10.load_data()\n",
    "subset_size = int(0.2 * x_train.shape[0])\n",
    "x_train, y_train = x_train[:subset_size], y_train[:subset_size]"
   ]
  },
  {
   "cell_type": "markdown",
   "id": "124421e1",
   "metadata": {},
   "source": [
    "### Data Preprocessing & Pipeline"
   ]
  },
  {
   "cell_type": "code",
   "execution_count": 5,
   "id": "6b49909f",
   "metadata": {},
   "outputs": [],
   "source": [
    "def preprocess(image, label):\n",
    "    image = tf.image.resize(image, (IMG_SIZE, IMG_SIZE))\n",
    "    image = image / 255.0\n",
    "    label = tf.one_hot(tf.squeeze(label), NUM_CLASSES)\n",
    "    return image, label\n",
    "\n",
    "train_ds = tf.data.Dataset.from_tensor_slices((x_train, y_train))\n",
    "train_ds = train_ds.map(preprocess, num_parallel_calls=tf.data.AUTOTUNE)\\\n",
    "                   .shuffle(1024)\\\n",
    "                   .batch(BATCH_SIZE)\\\n",
    "                   .prefetch(tf.data.AUTOTUNE)\n",
    "\n",
    "test_ds = tf.data.Dataset.from_tensor_slices((x_test, y_test))\n",
    "test_ds = test_ds.map(preprocess, num_parallel_calls=tf.data.AUTOTUNE)\\\n",
    "                 .batch(BATCH_SIZE)\\\n",
    "                 .prefetch(tf.data.AUTOTUNE)"
   ]
  },
  {
   "cell_type": "markdown",
   "id": "f9872980",
   "metadata": {},
   "source": [
    "### Load the pre-trained MobileNet (without top layers) and freeze it"
   ]
  },
  {
   "cell_type": "code",
   "execution_count": 6,
   "id": "c5ec45cd",
   "metadata": {},
   "outputs": [],
   "source": [
    "base_model = MobileNet(weights='imagenet', include_top=False, input_shape=(IMG_SIZE, IMG_SIZE, 3))\n",
    "base_model.trainable = False"
   ]
  },
  {
   "cell_type": "markdown",
   "id": "dfd70d88",
   "metadata": {},
   "source": [
    "### Build the model"
   ]
  },
  {
   "cell_type": "code",
   "execution_count": 7,
   "id": "201579b5",
   "metadata": {},
   "outputs": [],
   "source": [
    "inputs = tf.keras.Input(shape=(IMG_SIZE, IMG_SIZE, 3))\n",
    "x = base_model(inputs, training=False)\n",
    "x = layers.GlobalAveragePooling2D()(x)\n",
    "outputs = layers.Dense(NUM_CLASSES, activation='softmax')(x)\n",
    "model = models.Model(inputs, outputs)"
   ]
  },
  {
   "cell_type": "markdown",
   "id": "ad89f91b",
   "metadata": {},
   "source": [
    "### Display model architecture"
   ]
  },
  {
   "cell_type": "code",
   "execution_count": 8,
   "id": "e2d066cd",
   "metadata": {},
   "outputs": [
    {
     "name": "stdout",
     "output_type": "stream",
     "text": [
      "Model: \"model\"\n",
      "_________________________________________________________________\n",
      " Layer (type)                Output Shape              Param #   \n",
      "=================================================================\n",
      " input_2 (InputLayer)        [(None, 224, 224, 3)]     0         \n",
      "                                                                 \n",
      " mobilenet_1.00_224 (Functio  (None, 7, 7, 1024)       3228864   \n",
      " nal)                                                            \n",
      "                                                                 \n",
      " global_average_pooling2d (G  (None, 1024)             0         \n",
      " lobalAveragePooling2D)                                          \n",
      "                                                                 \n",
      " dense (Dense)               (None, 10)                10250     \n",
      "                                                                 \n",
      "=================================================================\n",
      "Total params: 3,239,114\n",
      "Trainable params: 10,250\n",
      "Non-trainable params: 3,228,864\n",
      "_________________________________________________________________\n"
     ]
    }
   ],
   "source": [
    "model.summary()"
   ]
  },
  {
   "cell_type": "markdown",
   "id": "1829537e",
   "metadata": {},
   "source": [
    "### Callbacks for robust training"
   ]
  },
  {
   "cell_type": "code",
   "execution_count": 9,
   "id": "a583a195",
   "metadata": {},
   "outputs": [],
   "source": [
    "callbacks = [\n",
    "    EarlyStopping(monitor='val_loss', patience=2, restore_best_weights=True),\n",
    "    ModelCheckpoint(\"baseline_model.h5\", monitor='val_loss', save_best_only=True)\n",
    "]"
   ]
  },
  {
   "cell_type": "markdown",
   "id": "220b81a0",
   "metadata": {},
   "source": [
    "### Compile and train the model"
   ]
  },
  {
   "cell_type": "code",
   "execution_count": 10,
   "id": "3f07b4f4",
   "metadata": {},
   "outputs": [
    {
     "name": "stdout",
     "output_type": "stream",
     "text": [
      "\n",
      "Starting baseline training...\n",
      "\n",
      "Epoch 1/5\n",
      "313/313 [==============================] - 274s 875ms/step - loss: 0.9051 - accuracy: 0.6947 - val_loss: 0.6111 - val_accuracy: 0.7942\n",
      "Epoch 2/5\n",
      "313/313 [==============================] - 265s 847ms/step - loss: 0.5070 - accuracy: 0.8330 - val_loss: 0.5210 - val_accuracy: 0.8216\n",
      "Epoch 3/5\n",
      "313/313 [==============================] - 267s 854ms/step - loss: 0.4243 - accuracy: 0.8580 - val_loss: 0.4811 - val_accuracy: 0.8372\n",
      "Epoch 4/5\n",
      "313/313 [==============================] - 277s 886ms/step - loss: 0.3827 - accuracy: 0.8733 - val_loss: 0.4614 - val_accuracy: 0.8416\n",
      "Epoch 5/5\n",
      "313/313 [==============================] - 268s 856ms/step - loss: 0.3438 - accuracy: 0.8862 - val_loss: 0.4622 - val_accuracy: 0.8423\n"
     ]
    }
   ],
   "source": [
    "model.compile(optimizer=optimizers.Adam(learning_rate=1e-3),\n",
    "              loss='categorical_crossentropy',\n",
    "              metrics=['accuracy'])\n",
    "print(\"\\nStarting baseline training...\\n\")\n",
    "history = model.fit(train_ds, epochs=EPOCHS, validation_data=test_ds, callbacks=callbacks, verbose=1)"
   ]
  },
  {
   "cell_type": "markdown",
   "id": "8bee3069",
   "metadata": {},
   "source": [
    "### Evaluate and final accuracy"
   ]
  },
  {
   "cell_type": "code",
   "execution_count": 11,
   "id": "700609b4",
   "metadata": {},
   "outputs": [
    {
     "name": "stdout",
     "output_type": "stream",
     "text": [
      "\n",
      "Final Test Accuracy: 84.23%\n"
     ]
    }
   ],
   "source": [
    "loss, acc = model.evaluate(test_ds, verbose=0)\n",
    "print(f\"\\nFinal Test Accuracy: {acc*100:.2f}%\")"
   ]
  }
 ],
 "metadata": {
  "kernelspec": {
   "display_name": "Python 3 (ipykernel)",
   "language": "python",
   "name": "python3"
  },
  "language_info": {
   "codemirror_mode": {
    "name": "ipython",
    "version": 3
   },
   "file_extension": ".py",
   "mimetype": "text/x-python",
   "name": "python",
   "nbconvert_exporter": "python",
   "pygments_lexer": "ipython3",
   "version": "3.9.13"
  }
 },
 "nbformat": 4,
 "nbformat_minor": 5
}
