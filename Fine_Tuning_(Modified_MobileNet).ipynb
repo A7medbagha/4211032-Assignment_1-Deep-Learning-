{
 "cells": [
  {
   "cell_type": "markdown",
   "id": "f87da229",
   "metadata": {},
   "source": [
    "## Name: Ahmed Mohamed Fekry Bagha\n",
    "## ID: 4211032\n",
    "## Group: (A)\n",
    "## Section: (B1)"
   ]
  },
  {
   "cell_type": "code",
   "execution_count": 1,
   "id": "75c2a1d7",
   "metadata": {},
   "outputs": [],
   "source": [
    "import tensorflow as tf\n",
    "from tensorflow.keras import layers, models, optimizers\n",
    "from tensorflow.keras.applications import MobileNet\n",
    "from tensorflow.keras.callbacks import EarlyStopping, ModelCheckpoint"
   ]
  },
  {
   "cell_type": "markdown",
   "id": "e2aea0cd",
   "metadata": {},
   "source": [
    "### As in Model_Loading_and_Training_(MobileNet) file"
   ]
  },
  {
   "cell_type": "code",
   "execution_count": 2,
   "id": "b3457d51",
   "metadata": {},
   "outputs": [
    {
     "name": "stdout",
     "output_type": "stream",
     "text": [
      "No GPU found, using CPU.\n"
     ]
    }
   ],
   "source": [
    "gpus = tf.config.list_physical_devices('GPU')\n",
    "if gpus:\n",
    "    try:\n",
    "        tf.config.experimental.set_memory_growth(gpus[0], True)\n",
    "        print(\"GPU configured\")\n",
    "    except Exception as e:\n",
    "        print(\"GPU configuration error:\", e)\n",
    "else:\n",
    "    print(\"No GPU found, using CPU.\")\n",
    "\n",
    "IMG_SIZE = 224\n",
    "BATCH_SIZE = 32\n",
    "NUM_CLASSES = 10\n",
    "INITIAL_EPOCHS = 5  \n",
    "FINE_TUNE_EPOCHS = 2 \n",
    "\n",
    "(x_train, y_train), (x_test, y_test) = tf.keras.datasets.cifar10.load_data()\n",
    "subset_size = int(0.2 * x_train.shape[0])\n",
    "x_train, y_train = x_train[:subset_size], y_train[:subset_size]\n",
    "\n",
    "def preprocess(image, label):\n",
    "    image = tf.image.resize(image, (IMG_SIZE, IMG_SIZE))\n",
    "    image = image / 255.0\n",
    "    label = tf.one_hot(tf.squeeze(label), NUM_CLASSES)\n",
    "    return image, label\n",
    "\n",
    "train_ds = tf.data.Dataset.from_tensor_slices((x_train, y_train))\n",
    "train_ds = train_ds.map(preprocess, num_parallel_calls=tf.data.AUTOTUNE)\\\n",
    "                   .shuffle(1024)\\\n",
    "                   .batch(BATCH_SIZE)\\\n",
    "                   .prefetch(tf.data.AUTOTUNE)\n",
    "\n",
    "test_ds = tf.data.Dataset.from_tensor_slices((x_test, y_test))\n",
    "test_ds = test_ds.map(preprocess, num_parallel_calls=tf.data.AUTOTUNE)\\\n",
    "                 .batch(BATCH_SIZE)\\\n",
    "                 .prefetch(tf.data.AUTOTUNE)\n",
    "\n",
    "base_model = MobileNet(weights='imagenet', include_top=False, input_shape=(IMG_SIZE, IMG_SIZE, 3))\n",
    "base_model.trainable = False"
   ]
  },
  {
   "cell_type": "markdown",
   "id": "6971fe77",
   "metadata": {},
   "source": [
    "### Build the modified model"
   ]
  },
  {
   "cell_type": "code",
   "execution_count": 3,
   "id": "a9171680",
   "metadata": {},
   "outputs": [],
   "source": [
    "inputs = tf.keras.Input(shape=(IMG_SIZE, IMG_SIZE, 3))\n",
    "x = base_model(inputs, training=False)\n",
    "x = layers.GlobalAveragePooling2D()(x)\n",
    "x = layers.Dense(256, activation='relu')(x)  \n",
    "x = layers.Dropout(0.5)(x)                   \n",
    "outputs = layers.Dense(NUM_CLASSES, activation='softmax')(x)\n",
    "model = models.Model(inputs, outputs)"
   ]
  },
  {
   "cell_type": "markdown",
   "id": "aa13d091",
   "metadata": {},
   "source": [
    "### Display model architecture"
   ]
  },
  {
   "cell_type": "code",
   "execution_count": 4,
   "id": "5bb1f08a",
   "metadata": {},
   "outputs": [
    {
     "name": "stdout",
     "output_type": "stream",
     "text": [
      "Model: \"model\"\n",
      "_________________________________________________________________\n",
      " Layer (type)                Output Shape              Param #   \n",
      "=================================================================\n",
      " input_2 (InputLayer)        [(None, 224, 224, 3)]     0         \n",
      "                                                                 \n",
      " mobilenet_1.00_224 (Functio  (None, 7, 7, 1024)       3228864   \n",
      " nal)                                                            \n",
      "                                                                 \n",
      " global_average_pooling2d (G  (None, 1024)             0         \n",
      " lobalAveragePooling2D)                                          \n",
      "                                                                 \n",
      " dense (Dense)               (None, 256)               262400    \n",
      "                                                                 \n",
      " dropout (Dropout)           (None, 256)               0         \n",
      "                                                                 \n",
      " dense_1 (Dense)             (None, 10)                2570      \n",
      "                                                                 \n",
      "=================================================================\n",
      "Total params: 3,493,834\n",
      "Trainable params: 264,970\n",
      "Non-trainable params: 3,228,864\n",
      "_________________________________________________________________\n"
     ]
    }
   ],
   "source": [
    "model.summary()"
   ]
  },
  {
   "cell_type": "markdown",
   "id": "9784ca57",
   "metadata": {},
   "source": [
    "### Set up callbacks"
   ]
  },
  {
   "cell_type": "code",
   "execution_count": 5,
   "id": "537bca5a",
   "metadata": {},
   "outputs": [],
   "source": [
    "callbacks = [\n",
    "    EarlyStopping(monitor='val_loss', patience=2, restore_best_weights=True),\n",
    "    ModelCheckpoint(\"modified_model.h5\", monitor='val_loss', save_best_only=True)\n",
    "]"
   ]
  },
  {
   "cell_type": "markdown",
   "id": "4de0463b",
   "metadata": {},
   "source": [
    "### (1): Train only the newly added layers"
   ]
  },
  {
   "cell_type": "code",
   "execution_count": 6,
   "id": "d2c726cb",
   "metadata": {},
   "outputs": [
    {
     "name": "stdout",
     "output_type": "stream",
     "text": [
      "\n",
      "Starting initial training of modified model...\n",
      "\n",
      "Epoch 1/5\n",
      "313/313 [==============================] - 262s 833ms/step - loss: 0.9632 - accuracy: 0.6710 - val_loss: 0.5319 - val_accuracy: 0.8206\n",
      "Epoch 2/5\n",
      "313/313 [==============================] - 267s 854ms/step - loss: 0.5989 - accuracy: 0.7969 - val_loss: 0.4795 - val_accuracy: 0.8383\n",
      "Epoch 3/5\n",
      "313/313 [==============================] - 269s 860ms/step - loss: 0.5235 - accuracy: 0.8190 - val_loss: 0.4751 - val_accuracy: 0.8354\n",
      "Epoch 4/5\n",
      "313/313 [==============================] - 270s 863ms/step - loss: 0.4735 - accuracy: 0.8370 - val_loss: 0.4556 - val_accuracy: 0.8421\n",
      "Epoch 5/5\n",
      "313/313 [==============================] - 274s 877ms/step - loss: 0.4365 - accuracy: 0.8470 - val_loss: 0.4422 - val_accuracy: 0.8515\n"
     ]
    },
    {
     "data": {
      "text/plain": [
       "<keras.callbacks.History at 0x216a283de80>"
      ]
     },
     "execution_count": 6,
     "metadata": {},
     "output_type": "execute_result"
    }
   ],
   "source": [
    "model.compile(optimizer=optimizers.Adam(learning_rate=1e-3),\n",
    "              loss='categorical_crossentropy',\n",
    "              metrics=['accuracy'])\n",
    "print(\"\\nStarting initial training of modified model...\\n\")\n",
    "model.fit(train_ds, epochs=INITIAL_EPOCHS, validation_data=test_ds, callbacks=callbacks, verbose=1)"
   ]
  },
  {
   "cell_type": "markdown",
   "id": "b0d8ad67",
   "metadata": {},
   "source": [
    "### (2) Fine tuning (last 10 layers of the base model)"
   ]
  },
  {
   "cell_type": "code",
   "execution_count": 7,
   "id": "0fe87fa3",
   "metadata": {},
   "outputs": [],
   "source": [
    "base_model.trainable = True\n",
    "for layer in base_model.layers[:-10]:\n",
    "    layer.trainable = False"
   ]
  },
  {
   "cell_type": "markdown",
   "id": "965003b3",
   "metadata": {},
   "source": [
    "### Recompile with a small learning rate"
   ]
  },
  {
   "cell_type": "code",
   "execution_count": 8,
   "id": "9af254fa",
   "metadata": {},
   "outputs": [
    {
     "name": "stdout",
     "output_type": "stream",
     "text": [
      "\n",
      "Starting fine-tuning...\n",
      "\n",
      "Epoch 6/7\n",
      "313/313 [==============================] - 307s 976ms/step - loss: 0.6538 - accuracy: 0.7770 - val_loss: 0.6878 - val_accuracy: 0.7527\n",
      "Epoch 7/7\n",
      "313/313 [==============================] - 297s 948ms/step - loss: 0.5376 - accuracy: 0.8135 - val_loss: 0.5851 - val_accuracy: 0.7897\n"
     ]
    },
    {
     "data": {
      "text/plain": [
       "<keras.callbacks.History at 0x216a2846d30>"
      ]
     },
     "execution_count": 8,
     "metadata": {},
     "output_type": "execute_result"
    }
   ],
   "source": [
    "model.compile(optimizer=optimizers.Adam(learning_rate=1e-4),\n",
    "              loss='categorical_crossentropy',\n",
    "              metrics=['accuracy'])\n",
    "print(\"\\nStarting fine-tuning...\\n\")\n",
    "model.fit(train_ds, epochs=INITIAL_EPOCHS + FINE_TUNE_EPOCHS,\n",
    "          initial_epoch=INITIAL_EPOCHS, validation_data=test_ds, callbacks=callbacks, verbose=1)"
   ]
  },
  {
   "cell_type": "markdown",
   "id": "a92051e2",
   "metadata": {},
   "source": [
    "### Evaluate and final modified accuracy"
   ]
  },
  {
   "cell_type": "code",
   "execution_count": 10,
   "id": "a226b9e2",
   "metadata": {},
   "outputs": [
    {
     "name": "stdout",
     "output_type": "stream",
     "text": [
      "Final Modified Model Test Accuracy: 85.11%\n"
     ]
    }
   ],
   "source": [
    "loss, acc = model.evaluate(test_ds, verbose=0)\n",
    "print(f\"\\nFinal Modified Model Test Accuracy: {acc*100:.2f}%\")"
   ]
  }
 ],
 "metadata": {
  "kernelspec": {
   "display_name": "Python 3 (ipykernel)",
   "language": "python",
   "name": "python3"
  },
  "language_info": {
   "codemirror_mode": {
    "name": "ipython",
    "version": 3
   },
   "file_extension": ".py",
   "mimetype": "text/x-python",
   "name": "python",
   "nbconvert_exporter": "python",
   "pygments_lexer": "ipython3",
   "version": "3.9.13"
  }
 },
 "nbformat": 4,
 "nbformat_minor": 5
}
